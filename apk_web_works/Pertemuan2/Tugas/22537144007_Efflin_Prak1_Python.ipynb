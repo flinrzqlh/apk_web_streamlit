{
 "cells": [
  {
   "cell_type": "code",
   "execution_count": 1,
   "metadata": {},
   "outputs": [
    {
     "name": "stdout",
     "output_type": "stream",
     "text": [
      "Hello, World!\n",
      "\n",
      "Mudah, kan?\n"
     ]
    }
   ],
   "source": [
    "# Latihan 1 (Hello World)\n",
    "# Untuk menampilkan atau mencetak sebuah nilai, gunakan perintah \"print(<nilai yang ingin dicetak)\"\"\n",
    "print(\"Hello, World!\")\n",
    "# Untuk mencetak baris baru, gunakan perintah \"print()\"\n",
    "print()\n",
    "print(\"Mudah, kan?\")"
   ]
  },
  {
   "cell_type": "code",
   "execution_count": 2,
   "metadata": {},
   "outputs": [
    {
     "name": "stdout",
     "output_type": "stream",
     "text": [
      "Salam\n",
      "Salam  hangat dari saya!\n"
     ]
    }
   ],
   "source": [
    "# Latihan 2 (Variable)\n",
    "# Variable merupakan suatu entitas yang digunakan untuk menyimpan data pada sebuah memori\n",
    "\n",
    "# Untuk mendefinisikan sebuah variabel, berilah nama dari variabel tersebut\n",
    "# Untuk menyimpan sebuah nilai pada variabel tersebut, berilah operator assignemnt \"=\" dan ketik nilai dengan tipe data int, float, boolean, atau string\n",
    "kata = \"Salam\"\n",
    "\n",
    "# Untuk mencetak nilai yang berada di variabel tersebut, ketik perintah \"print(<nama variabel>)\"\n",
    "print(kata)\n",
    "print(kata, \" hangat dari saya!\")"
   ]
  },
  {
   "cell_type": "code",
   "execution_count": 3,
   "metadata": {},
   "outputs": [
    {
     "name": "stdout",
     "output_type": "stream",
     "text": [
      "Arithmetic Operators\n",
      "x + y = 18\n",
      "x - y = 10\n",
      "x * y = 56\n",
      "x / y = 3.5\n",
      "x // y =  3\n",
      "x % y = 2\n",
      "x ** y = 38416\n",
      "\n",
      "Assignment Operators\n",
      "10\n",
      "15\n",
      "3.0\n"
     ]
    }
   ],
   "source": [
    "# Latihan 3 (Operators)\n",
    "# Operators merupakan suatu simbol yang digunakan untuk operasi tertentu\n",
    "# Dibagi menjadi 2, yaitu:\n",
    "\n",
    "print(\"Arithmetic Operators\")\n",
    "# digunakan untuk mengoperasikan operasi matematika\n",
    "x = 14\n",
    "y = 4\n",
    "\n",
    "# penjumlahan\n",
    "print(\"x + y =\", x+y)\n",
    "# Pengurangan\n",
    "print(\"x - y =\",x-y)\n",
    "# Perkalian\n",
    "print(\"x * y =\",x*y)\n",
    "# Pembagian\n",
    "print(\"x / y =\",x/y)\n",
    "# Floor Division (Quotient) atau Hasil Bagi\n",
    "print(\"x // y = \",x//y)\n",
    "# Modulus (Sisa Hasil Bagi)\n",
    "print(\"x % y =\", x%y)\n",
    "# Perpangkatan\n",
    "print('x ** y =', x**y)\n",
    "print()\n",
    "\n",
    "print(\"Assignment Operators\")\n",
    "# digunakan untuk menetapkan nilai dalam suatu variabel\n",
    "\n",
    "# simbol '=' digunakan untuk memasukkan nilai dalam suatu variabel\n",
    "z = 10\n",
    "print(z)\n",
    "# simbol '+=' digunakan untuk menambahkan nilai ke dalam variabel yang sudah ada\n",
    "z += 5 # artinya z = z + 5\n",
    "print(z)\n",
    "# simbol \"/=\" digunakan membagi nilai ke dalam variable yang sudah ada\n",
    "z /= 5 # artinya z = z / 5\n",
    "print(z)"
   ]
  },
  {
   "cell_type": "code",
   "execution_count": 5,
   "metadata": {},
   "outputs": [
    {
     "name": "stdout",
     "output_type": "stream",
     "text": [
      "<class 'int'>\n",
      "1\n",
      "\n",
      "<class 'float'>\n",
      "1.0\n",
      "\n",
      "<class 'str'>\n",
      "Efflin\n",
      "\n",
      "x + y = 2.0\n"
     ]
    }
   ],
   "source": [
    "# Latihan 4 (Tipe Data)\n",
    "# Python mempunyai beberapa Tipe Data, diantaranya:\n",
    "\n",
    "# Integer\n",
    "x = 1\n",
    "print(type(x))\n",
    "print(x)\n",
    "print()\n",
    "\n",
    "# Float\n",
    "y = 1.0\n",
    "print(type(y))\n",
    "print(y)\n",
    "print()\n",
    "\n",
    "# String\n",
    "z = \"Efflin\"\n",
    "print(type(z))\n",
    "print(z)\n",
    "print()\n",
    "\n",
    "# Jika nilai int dioperasikan dengan nilai float, otomatis akan jadi tipe data float\n",
    "print(\"x + y =\", x + y)"
   ]
  },
  {
   "cell_type": "code",
   "execution_count": 6,
   "metadata": {},
   "outputs": [
    {
     "name": "stdout",
     "output_type": "stream",
     "text": [
      "[3, 'Yow', 4.3]\n",
      "[1, 'Yow', 4.3]\n",
      "1\n",
      "\n",
      "('Mamang', 1, 'Garox', 2.4)\n",
      "Mamang\n",
      "\n",
      "{1, 3, 'Rawr', 5, 6}\n",
      "{'Ironi', 'Reza', 'Fuad', 'Narji'}\n",
      "\n",
      "{1: 'Apple', 2: 'Red'}\n",
      "Apple\n",
      "{'students': [{'name': 'Alex', 'age': '20'}, {'name': 'Ben', 'age': '21'}, {'name': 'Rose', 'age': '19'}], 'class': [{'code': '1A', 'teacher': 'Mrs. Turner'}, {'code': '2B', 'teacher': 'Mr. Smith'}, {'code': '3C', 'teacher': 'Mr. Hill'}]}\n",
      "Alex\n"
     ]
    }
   ],
   "source": [
    "# Latihan 5 (Data Structures)\n",
    "# Berguna untuk memanajemen suatu kumpulan data\n",
    "\n",
    "# Lists\n",
    "# Merupakan suatu tempat penyimpanan data di dalam sebuah kurung siku \"[]\" yang dipisahkan oleh koma.\n",
    "# Data yang simpan dapat berbentuk Integer, Float, dan String.\n",
    "list1 = [3, \"Yow\", 4.3]\n",
    "\n",
    "print(list1)      # memanggil semua data dalam sebuah list\n",
    "list1[0] = 1      # mengganti data dengan elemen 0 dengan nilai \"1\"\n",
    "print(list1)      # menampilkan list1 yang telah diubah data pada elemen 1\n",
    "print(list1[0])   # menampilkan data dengan elemen 0 saja pada list1\n",
    "print()\n",
    "\n",
    "# Tuple\n",
    "# Sama dengan Lists, perbedaannya dengan Tuples tidak dapat mengubah isi datanya ketika sudah didefinisikan.\n",
    "# Tuple didefinisikan menggunakan kurung biasa \"()\".\n",
    "tuple1 = (\"Mamang\", 1, \"Garox\", 2.4)\n",
    "print(tuple1)\n",
    "print(tuple1[0])\n",
    "print()\n",
    "\n",
    "# Set\n",
    "# Merupakan tempat penyimpanan dari kumpulan data UNIQUE\n",
    "set1 = {1, 3, 5, 6, \"Rawr\"}\n",
    "print(set1)\n",
    "# Set juga dapat dilakukan untuk mendapat nilai unique dari suatu kumpulan data\n",
    "lister = [\"Reza\", \"Narji\", \"Ironi\", \"Fuad\", \"Narji\", \"Fuad\", \"Reza\"]  # Pada list \"lister\", terdapat data yang duplikat\n",
    "print(set(lister))    # perintah \"print(set(lister))\" akan mencetak \"lister\" dengan tipe data set yang akan menghilangkan data duplikat\n",
    "print()\n",
    "\n",
    "# Dictionary\n",
    "# Kumpulan Data yang dapat menyimpan data dengan Key dan Value\n",
    "dict2 = {1: \"Apple\", 2: \"Red\"}\n",
    "print(dict2)\n",
    "print(dict2[1])\n",
    "# Dictionary dapat menyimpan kumpulan tipe data\n",
    "dict3 = {'students':\n",
    "            [{'name': 'Alex',\n",
    "              'age': '20'},\n",
    "             {'name': 'Ben',\n",
    "              'age': '21'},\n",
    "             {'name': 'Rose',\n",
    "              'age': '19'},\n",
    "            ],\n",
    "        'class':\n",
    "            [{'code': '1A',\n",
    "              'teacher': 'Mrs. Turner'},\n",
    "             {'code': '2B',\n",
    "              'teacher': 'Mr. Smith'},\n",
    "             {'code': '3C',\n",
    "              'teacher': 'Mr. Hill'},]\n",
    "        }\n",
    "print(dict3)    # perintah ini akan mencetak semua data pada dict3\n",
    "print(dict3['students'][0]['name'])   # perintah ini akan mencetak data dengan key 'students',\n",
    "                                      # kemudian memanggil satu-satunya list didalamnya dengan mengetik \"[0]\"\n"
   ]
  },
  {
   "cell_type": "code",
   "execution_count": 8,
   "metadata": {},
   "outputs": [
    {
     "name": "stdout",
     "output_type": "stream",
     "text": [
      "Your mark for the test is :  A\n"
     ]
    }
   ],
   "source": [
    "# Latihan 6 (IF... Else Statement)\n",
    "# digunakan ketika akan melakukan aksi berbeda dengan kondisi tertentu\n",
    "userInput = int(input(\"Please insert your test score! : \"))\n",
    "if userInput >= 95:                         # Untuk menginisialisasi pernyataan if...else, gunakan perintah 'if'\n",
    "    userScore = \"A\"                         # Dibawah perintah tersebut, berilah argumentnya\n",
    "elif userInput >= 90 and userInput < 95:      # Jika ada pernyataan else if, gunakan perintah 'elif'\n",
    "    userScore = \"B+\"\n",
    "elif userInput >= 80 and userInput < 90:\n",
    "    userScore = \"B\"\n",
    "elif userInput >= 70 and userInput < 80:\n",
    "    userScore = \"C\"\n",
    "else:\n",
    "    userScore = \"D\"\n",
    "    \n",
    "print(\"Your mark for the test is : \", userScore)"
   ]
  },
  {
   "cell_type": "code",
   "execution_count": 9,
   "metadata": {},
   "outputs": [
    {
     "name": "stdout",
     "output_type": "stream",
     "text": [
      "We will count up to your number!\n",
      "1\n",
      "2\n",
      "3\n",
      "4\n",
      "5\n",
      "\n",
      "Now, we will count to the number after your initial number!\n",
      "1\n",
      "2\n",
      "3\n",
      "4\n",
      "5\n",
      "6\n"
     ]
    }
   ],
   "source": [
    "# Latihan 7 (While Loop Statement)\n",
    "# Digunakan untuk melakukan iterasi kumpulan data selama kondisinya terpenuhi.\n",
    "userInput = int(input(\"Please insert a number for us to count to! : \"))\n",
    "i = 1\n",
    "print(\"We will count up to your number!\")\n",
    "while i <= userInput:\n",
    "    print(i)\n",
    "    i += 1\n",
    "print()\n",
    "print(\"Now, we will count to the number after your initial number!\")\n",
    "j = 0\n",
    "while j <= userInput:\n",
    "    j += 1\n",
    "    print(j)"
   ]
  },
  {
   "cell_type": "code",
   "execution_count": 10,
   "metadata": {},
   "outputs": [
    {
     "name": "stdout",
     "output_type": "stream",
     "text": [
      "Code ini akan menyebutkan item-item yang berada di dalam list buahBuahan.\n",
      "Jeruk\n",
      "Apple\n",
      "Semangka\n",
      "\n",
      "Code dibawah ini akan menghitung sampai ke angka yang telah diinput user.\n",
      "1\n",
      "2\n",
      "3\n",
      "4\n",
      "5\n",
      "\n",
      "Code dibawah ini akan menyebutkan semua huruf dalam sebuah string atau kata\n",
      "w\n",
      "o\n",
      "r\n",
      "d\n"
     ]
    }
   ],
   "source": [
    "# Latihan 8 (For Loop Statement)\n",
    "# Digunakan untuk melakukan iterasi kumpulan data\n",
    "\n",
    "print(\"Code ini akan menyebutkan item-item yang berada di dalam list buahBuahan.\")\n",
    "buahBuahan = ['Jeruk','Apple','Semangka']\n",
    "for buah in buahBuahan:\n",
    "    print(buah)\n",
    "print()\n",
    "\n",
    "print(\"Code dibawah ini akan menghitung sampai ke angka yang telah diinput user.\")\n",
    "userInput = int(input(\"Please insert a number! : \"))\n",
    "for i in range(userInput):\n",
    "    print(i+1)\n",
    "print()\n",
    "    \n",
    "print(\"Code dibawah ini akan menyebutkan semua huruf dalam sebuah string atau kata\")\n",
    "userStr = input(\"Please type in a word! : \")\n",
    "for letter in userStr:\n",
    "    print(letter)"
   ]
  },
  {
   "cell_type": "code",
   "execution_count": 13,
   "metadata": {},
   "outputs": [
    {
     "name": "stdout",
     "output_type": "stream",
     "text": [
      "1\n",
      "2\n",
      "3\n",
      "4\n",
      "5\n",
      "6\n",
      "7\n",
      "8\n",
      "9\n",
      "10\n",
      "Your number is higher than 10!\n",
      "Counting Complete!\n"
     ]
    }
   ],
   "source": [
    "# Latihan 9 (Break Statement)\n",
    "# Digunakan untuk menghentikan suatu proses perulangan\n",
    "userInput = int(input(\"Please insert a round number not higher than 10 ! : \"))\n",
    "for i in range(userInput):\n",
    "    if i == 10:                                     # Perintah if ini yang akan menentukan apakah nomor lebih besar dari 10\n",
    "        print(\"Your number is higher than 10!\")     # Jika useInput > 10...\n",
    "        break                                       # kode akan 'break' dari loop sehingga...\n",
    "    print(i+1)                                      # perintah <print(i+1) tidak dijalankan\n",
    "print(\"Counting Complete!\")"
   ]
  },
  {
   "cell_type": "code",
   "execution_count": 15,
   "metadata": {},
   "outputs": [
    {
     "name": "stdout",
     "output_type": "stream",
     "text": [
      "This code will count the even numbers only up until the user's number.\n",
      "Your number is an even number! We will count now :\n",
      "2\n",
      "4\n",
      "6\n",
      "Counting Complete!\n"
     ]
    }
   ],
   "source": [
    "# Latihan 10 (Continue Statement)\n",
    "# Digunakan untuk menyekip/melewati suatu code\n",
    "print(\"This code will count the even numbers only up until the user's number.\")\n",
    "userInput = int(input(\"Please insert an even number : \"))\n",
    "if userInput % 2 != 0:\n",
    "    print(\"Your number is not an even number!\")\n",
    "else:\n",
    "    print(\"Your number is an even number! We will count now :\")\n",
    "    for i in range(userInput):\n",
    "        if i % 2 == 0:          # Jika i adalah genap...\n",
    "            continue            # code <print(i+1)> akan dilewati.\n",
    "        print(i+1)              # code <print(i+1)> diperlukan untuk melewati angka 0.\n",
    "                                # Karena kode ini angka genap pada i akan di print.\n",
    "    print(\"Counting Complete!\")"
   ]
  },
  {
   "cell_type": "code",
   "execution_count": 17,
   "metadata": {},
   "outputs": [
    {
     "name": "stdout",
     "output_type": "stream",
     "text": [
      "P\n",
      "r\n",
      "o\n",
      "g\n",
      "r\n",
      "a\n",
      "m\n"
     ]
    }
   ],
   "source": [
    "# Latihan 11 (Pass Statement)\n",
    "# Literally method untuk tidak melakukan apapun\n",
    "for huruf in \"Program\":\n",
    "    pass\n",
    "    print(huruf)"
   ]
  },
  {
   "cell_type": "code",
   "execution_count": 19,
   "metadata": {},
   "outputs": [
    {
     "name": "stdout",
     "output_type": "stream",
     "text": [
      "Hello User, Welcome to CountWithMe!\n",
      "Please select a menu: \n",
      "1. Count Up To Your Number\n",
      "2. Add Two Numbers\n",
      "3. Exit\n",
      "\n",
      "This menu will add two numbers together for you\n",
      "The result is :  11\n",
      "\n",
      "Please select a menu: \n",
      "1. Count Up To Your Number\n",
      "2. Add Two Numbers\n",
      "3. Exit\n",
      "\n",
      "We will count up to your number!\n",
      "1\n",
      "2\n",
      "3\n",
      "Counting Complete!\n",
      "\n",
      "Please select a menu: \n",
      "1. Count Up To Your Number\n",
      "2. Add Two Numbers\n",
      "3. Exit\n",
      "\n",
      "Goodbye! See you again soon!\n"
     ]
    }
   ],
   "source": [
    "# Latihan 12 (Function)\n",
    "# Function atau Fungsi merupakan kumpulan script untuk task khusus/spesifik\n",
    "def menu():\n",
    "    print(\"Please select a menu: \")\n",
    "    print(\"1. Count Up To Your Number\")\n",
    "    print(\"2. Add Two Numbers\")\n",
    "    print(\"3. Exit\")\n",
    "    print()\n",
    "    userMenu = int(input(\"What would you like to do? : \"))\n",
    "    if userMenu == 1:\n",
    "        count()\n",
    "    elif userMenu == 2:\n",
    "        add()\n",
    "    elif userMenu == 3:\n",
    "        exit()\n",
    "    else:\n",
    "        print(\"That menu has not been defined yet. Automatic Exit.\")\n",
    "        exit()\n",
    "        \n",
    "def count():\n",
    "    userCount = int(input(\"Please insert a number for us to count to! : \"))\n",
    "    print(\"We will count up to your number!\")\n",
    "    for n in range(userCount):\n",
    "        print(n+1)\n",
    "    print(\"Counting Complete!\")\n",
    "    print()\n",
    "    menu()\n",
    "\n",
    "def add():\n",
    "    print(\"This menu will add two numbers together for you\")\n",
    "    a = int(input(\"Add a number : \"))\n",
    "    b = int(input(\"Add a number : \"))\n",
    "    def opp(i, j):\n",
    "        sum = i + j\n",
    "        return sum\n",
    "    result = opp(i, j)\n",
    "    print(\"The result is : \", result)\n",
    "    print()\n",
    "    menu()\n",
    "\n",
    "def exit():\n",
    "    print(\"Goodbye! See you again soon!\")\n",
    "    \n",
    "print(\"Hello User, Welcome to CountWithMe!\")\n",
    "menu()"
   ]
  },
  {
   "cell_type": "code",
   "execution_count": 20,
   "metadata": {},
   "outputs": [
    {
     "name": "stdout",
     "output_type": "stream",
     "text": [
      "5\n"
     ]
    }
   ],
   "source": [
    "# Latihan 13 (Lambda Function)\n",
    "# Merupakan fungsi yang tidak memiliki nama\n",
    "# Dalam kata lain, lamda adalah fungsi yang disematkan di dalam sebuah variabel\n",
    "data = lambda a: a - 5\n",
    "print(data(10))"
   ]
  },
  {
   "cell_type": "code",
   "execution_count": 21,
   "metadata": {},
   "outputs": [
    {
     "name": "stdout",
     "output_type": "stream",
     "text": [
      "Aku Sedang Menulis\n",
      "Jangan Diganggu ya...\n"
     ]
    }
   ],
   "source": [
    "# Latihan 14 (File I/O)\n",
    "# Digunakan untuk berhubungan dengan file seperti:\n",
    "\n",
    "# Write File\n",
    "with open(\"testo.txt\", 'w', encoding = 'utf-8') as nulis:\n",
    "    nulis.write(\"Aku Sedang Menulis\\n\")\n",
    "    nulis.write(\"Jangan Diganggu ya...\")    \n",
    "    \n",
    "# Read File\n",
    "nulis = open(\"testo.txt\", 'r', encoding = 'utf-8')\n",
    "print(nulis.read())"
   ]
  },
  {
   "cell_type": "code",
   "execution_count": 22,
   "metadata": {},
   "outputs": [
    {
     "name": "stdout",
     "output_type": "stream",
     "text": [
      "Hari ini tanggal 2024-08-22\n",
      "Secara format dd/mm/yy, hari ini tanggal :\n",
      "22/08/2024\n",
      "Secara tekstual, tanggal hari adalah :\n",
      "August 22, 2024\n",
      "Secara format mm/dd/y, tanggal hari ini adalah :\n",
      "08/22/24\n"
     ]
    }
   ],
   "source": [
    "# Latihan 15 (Date and Time)\n",
    "# Menampilkan Tanggal dan Waktu\n",
    "from datetime import date\n",
    "\n",
    "hariIni = date.today()\n",
    "print(\"Hari ini tanggal\", hariIni)\n",
    "\n",
    "# dd/mm/YY\n",
    "print(\"Secara format dd/mm/yy, hari ini tanggal :\")\n",
    "print(hariIni.strftime(\"%d/%m/%Y\"))\n",
    "\n",
    "# Textual month, day and year   \n",
    "print(\"Secara tekstual, tanggal hari adalah :\")\n",
    "print(hariIni.strftime(\"%B %d, %Y\"))\n",
    "\n",
    "# mm/dd/y\n",
    "print(\"Secara format mm/dd/y, tanggal hari ini adalah :\")\n",
    "print(hariIni.strftime(\"%m/%d/%y\"))"
   ]
  }
 ],
 "metadata": {
  "kernelspec": {
   "display_name": "Python 3",
   "language": "python",
   "name": "python3"
  },
  "language_info": {
   "codemirror_mode": {
    "name": "ipython",
    "version": 3
   },
   "file_extension": ".py",
   "mimetype": "text/x-python",
   "name": "python",
   "nbconvert_exporter": "python",
   "pygments_lexer": "ipython3",
   "version": "3.12.0"
  }
 },
 "nbformat": 4,
 "nbformat_minor": 2
}
