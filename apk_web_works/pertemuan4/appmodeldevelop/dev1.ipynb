{
 "cells": [
  {
   "cell_type": "code",
   "execution_count": null,
   "metadata": {},
   "outputs": [],
   "source": [
    "# Mengimport Packages/Libraries\n",
    "import pandas as pd\n",
    "import numpy as np"
   ]
  },
  {
   "cell_type": "code",
   "execution_count": null,
   "metadata": {},
   "outputs": [],
   "source": [
    "# Mendefinisikan Constant\n",
    "DATE_COLUMN = 'date/time'\n",
    "DATA_URL = 'https://s3-us-west-2.amazonaws.com/streamlit-demo-data/uber-raw-data-sep14.csv.gz'"
   ]
  },
  {
   "cell_type": "code",
   "execution_count": null,
   "metadata": {},
   "outputs": [],
   "source": [
    "# Membaca Data dari URL\n",
    "data = pd.read_csv(DATA_URL, nrows=10000)\n",
    "data"
   ]
  },
  {
   "cell_type": "code",
   "execution_count": null,
   "metadata": {},
   "outputs": [],
   "source": [
    "# Mentransformasi nama kolom menjadi lowercase\n",
    "lowercase = lambda x: str(x).lower()\n",
    "data.rename(lowercase, axis='columns', inplace=True)\n",
    "\n",
    "# Mentransformasi data kolom ke dalam format datetime\n",
    "data[DATE_COLUMN] = pd.to_datetime(data[DATE_COLUMN])\n",
    "data"
   ]
  },
  {
   "cell_type": "code",
   "execution_count": null,
   "metadata": {},
   "outputs": [],
   "source": [
    "# Membuat Histogram\n",
    "np.histogram(data[DATE_COLUMN].dt.hour, bins=24, range=(0,24))"
   ]
  },
  {
   "cell_type": "code",
   "execution_count": null,
   "metadata": {},
   "outputs": [],
   "source": [
    "# Membuat Histogram\n",
    "hist_values = np.histogram(data[DATE_COLUMN].dt.hour, bins=24, range=(0))[0]\n",
    "hist_values"
   ]
  },
  {
   "cell_type": "code",
   "execution_count": null,
   "metadata": {},
   "outputs": [],
   "source": [
    "# Memplot Histogram\n",
    "import matplotlib.pyplot as plt\n",
    "plt.plot(hist_values)"
   ]
  },
  {
   "cell_type": "code",
   "execution_count": null,
   "metadata": {},
   "outputs": [],
   "source": [
    "# Membuat Chart Bar\n",
    "plt.bar(x=[i for i in range(24)], height=hist_values)"
   ]
  }
 ],
 "metadata": {
  "language_info": {
   "name": "python"
  }
 },
 "nbformat": 4,
 "nbformat_minor": 2
}
